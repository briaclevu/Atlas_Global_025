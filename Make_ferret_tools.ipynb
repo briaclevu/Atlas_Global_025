{
 "metadata": {
  "name": "",
  "signature": "sha256:c0d39255ca0f92f351d82254f759a025c803cd7d53fe41e017733167e855efd7"
 },
 "nbformat": 3,
 "nbformat_minor": 0,
 "worksheets": [
  {
   "cells": [
    {
     "cell_type": "markdown",
     "metadata": {},
     "source": [
      "<hr>\n",
      "James ORR - 15/10/2014<br>\n",
      "Briac LE VU - 20/10/2014<br>\n",
      "\n",
      "<img align=\"left\" width=\"40%\" src=\"http://www.lsce.ipsl.fr/Css/img/banniere_LSCE_75.png\" \\><br><br>\n",
      "<hr>"
     ]
    },
    {
     "cell_type": "heading",
     "level": 1,
     "metadata": {},
     "source": [
      "ORCA025-PISCES model-data comparison: tools to produce map and zonal means."
     ]
    },
    {
     "cell_type": "markdown",
     "metadata": {},
     "source": [
      "This Notebook (1) makes and writes out three new plotting routines for mapping (Ferret go scripts: <b>mapmod.jnl, mapdat.jnl, and mod2datgrid.jnl</b>), and (2) produce needed ferret \"go\" scripts for zonal means(choosebasin, zmsurf, mod2datgrid, dat2refgrid)."
     ]
    },
    {
     "cell_type": "heading",
     "level": 4,
     "metadata": {},
     "source": [
      "<i>mapmod.jnl</i> - Routine to make map of model output (curvilinear grid)"
     ]
    },
    {
     "cell_type": "code",
     "collapsed": false,
     "input": [
      "%%writefile mapmod.jnl\n",
      "\\cancel mode verify\n",
      "\n",
      "  def sym var     $1%DIC%\n",
      "  def sym lon     $2%lon%\n",
      "  def sym lat     $3%lat%\n",
      "  def sym xlabl   $4%no%\n",
      "  def sym ylabl   $5%no%\n",
      "  def sym pltopts $6\n",
      "  \n",
      "! James Orr, LSCE/IPSL, CEA-CNRS-UVSQ, CEA Saclay, 15 Oct 2014\n",
      "! ============================================================  \n",
      "! let varl = ($var)[x=@ave,y=($latmin):($latmax)@ave]\n",
      "  let varl = ($var)\n",
      "  \n",
      "  ppl labset 0.2,0.16,0.16,0.15\n",
      "  ppl axlsze 0.17, 0.17\n",
      "\n",
      "  ppl axnmtc 2, 2\n",
      "  ppl axlint 2, 1\n",
      "  ppl axlabp -1, -1\n",
      "  shade/nolab/set/hlim=120e:480e:30/vlim=90s:90n:30/mod/($pltopts) ($var), ($lon), ($lat)    \n",
      "  if ($xlabl%|no>FALSE|*>TRUE%) then\n",
      "    ppl xlab ($xlabl)\n",
      "  endif\n",
      "  if ($ylabl%|no>FALSE|*>TRUE%) then\n",
      "    ppl ylab ($ylabl)\n",
      "  endif\n",
      "    \n",
      "  ppl shade\n",
      "  go fland 60 gray36; go land\n",
      "\n",
      "set mode/last verify"
     ],
     "language": "python",
     "metadata": {},
     "outputs": [
      {
       "output_type": "stream",
       "stream": "stdout",
       "text": [
        "Overwriting mapmod.jnl\n"
       ]
      }
     ],
     "prompt_number": 3
    },
    {
     "cell_type": "heading",
     "level": 4,
     "metadata": {},
     "source": [
      "<i>mapdat.jnl</i> - routine to make map of data (regular grid)"
     ]
    },
    {
     "cell_type": "code",
     "collapsed": false,
     "input": [
      "%%writefile mapdat.jnl\n",
      "\\cancel mode verify\n",
      "\n",
      "  def sym var     $1%DIC%\n",
      "  def sym xlabl   $2%no%\n",
      "  def sym ylabl   $3%no%\n",
      "  def sym pltopts $4\n",
      "  \n",
      "! James Orr, LSCE/IPSL, CEA-CNRS-UVSQ, CEA Saclay, 15 Oct 2014\n",
      "! ============================================================  \n",
      "! let varl = ($var)[x=@ave,y=($latmin):($latmax)@ave]\n",
      "  let varl = ($var)\n",
      "  \n",
      "  ppl labset 0.2,0.16,0.16,0.15\n",
      "  ppl axlsze 0.17, 0.17\n",
      "\n",
      "  ppl axnmtc 2, 2\n",
      "  ppl axlint 2, 1\n",
      "  ppl axlabp -1, -1\n",
      "\n",
      "! Define as a module axis (e.g., not set in CARS) needed to show full map from 120E to 120E\n",
      "  set axis/mod `($var),RETURN=xaxis`\n",
      "\n",
      "  shade/nolab/set/x=240w:120e/hlim=120:480:30/vlim=90s:90n:30/mod/($pltopts) ($var)    \n",
      "  if ($xlabl%|no>FALSE|*>TRUE%) then\n",
      "    ppl xlab ($xlabl)\n",
      "  endif\n",
      "  if ($ylabl%|no>FALSE|*>TRUE%) then\n",
      "    ppl ylab ($ylabl)\n",
      "  endif\n",
      "    \n",
      "  ppl shade\n",
      "  go fland 60 gray36; go land\n",
      "\n",
      "set mode/last verify"
     ],
     "language": "python",
     "metadata": {},
     "outputs": [
      {
       "output_type": "stream",
       "stream": "stdout",
       "text": [
        "Overwriting mapdat.jnl\n"
       ]
      }
     ],
     "prompt_number": 4
    },
    {
     "cell_type": "heading",
     "level": 4,
     "metadata": {},
     "source": [
      "<i>mod2datgrid.jnl</i> - routine to interpolate model output to data grid (regular grid)"
     ]
    },
    {
     "cell_type": "code",
     "collapsed": false,
     "input": [
      "%%writefile mod2datgrid.jnl\n",
      "\\cancel mode verify\n",
      "\n",
      "  def sym varmod   $1%DIC%\n",
      "  def sym vardat   $2%ALK%\n",
      "  def sym lonsmod   $3\n",
      "  def sym latsmod   $4\n",
      "    \n",
      "  define grid/like=($vardat) gridref\n",
      "! sho grid gridref\n",
      "    \n",
      "  let lonsd = x[gx=`($vardat),return=xaxis`]\n",
      "  let latsd = y[gy=`($vardat),return=yaxis`]\n",
      "  let latsm = xsequence(($latsmod))\n",
      "  let lonsm = xsequence(($lonsmod))\n",
      "    \n",
      "! Fix problem when model longitude (range -180 to +180) is outside data longitude range (0 to 360.)\n",
      "  let lonsdmin = lonsd[i=@min]\n",
      "  let lonsdmax = lonsd[i=@max]\n",
      "  let lonsm_lo = if lonsm    lt lonsdmin then lonsm    + 360. else lonsm\n",
      "  let lonsmd   = if lonsm_lo gt lonsdmax then lonsm_lo - 360. else lonsm_lo\n",
      "      \n",
      "  let ($varmod)_reg = scat2grid_bin_xy(lonsmd, latsm, xsequence(($varmod)), lonsd, latsd)\n",
      "\n",
      "set mode/last verify"
     ],
     "language": "python",
     "metadata": {},
     "outputs": [
      {
       "output_type": "stream",
       "stream": "stdout",
       "text": [
        "Overwriting mod2datgrid.jnl\n"
       ]
      }
     ],
     "prompt_number": 5
    },
    {
     "cell_type": "heading",
     "level": 4,
     "metadata": {},
     "source": [
      "<i>choosebasin.jnl</i> - choose basin (mask out all others) using mask file on standard 1\u00b0x1\u00b0 grid)"
     ]
    },
    {
     "cell_type": "code",
     "collapsed": false,
     "input": [
      "%%writefile choosebasin.jnl\n",
      "\\cancel mode verify\n",
      "\n",
      "  def sym obasn     $1%|atlarc|ind|pac|indopac|glo<You must specify one of this set: atlarc, ind, pac, indopac, OR glo)%\n",
      "    \n",
      "! Read the data (only the first time this routine is called)\n",
      "  if ($readbmask%|yes>FALSE|*>TRUE%) then\n",
      "!    Compute Basin mask information (convert from grid start at 20\u00b0E to start at 0\u00b0)\n",
      "!    -------------------------------------------------------------------------------\n",
      "     use \"http://dods.ipsl.jussieu.fr/cgi-bin/nph-dods/ocmip/phase5/DATA/GRID/LEV_grid.nc\"\n",
      "     use \"http://dods.ipsl.jussieu.fr/cgi-bin/nph-dods/ocmip/phase5/DATA/specials/LEV_Basins.nc\"\n",
      "     use \"http://dods.ipsl.jussieu.fr/cgi-bin/nph-dods/ocmip/phase5/DATA/GRID/WOA2001_grid.nc\"\n",
      "!\n",
      "!    Impose proper axes (instead of just indices in the LEV_Basins file)\n",
      "     let basin_on_lev20_grid = reshape(basin[d=LEV_Basins.nc],area[d=LEV_grid.nc])\n",
      "!\n",
      "!    Put on World Ocean Atlas grid (starting at 0\u00b0 of longitude)\n",
      "     let basin_on_lev0_grid = basin_on_lev20_grid[gx=longitude@xact,gy=latitude@xact]\n",
      "     let bg0 = basin_on_lev0_grid\n",
      "!\n",
      "!    Do not consider marginal seas (areas where basin=3)\n",
      "     let bg  = if bg0 ne 3 then bg0\n",
      "    \n",
      "!    Signal that this if BLOCK has been executed (no need to repeat later in same execution of same script)\n",
      "     def sym readbmask yes\n",
      "  endif\n",
      "\n",
      "! Based on user input for obasn (glo, atlarc, ind, pac, indopac), set maskbasin = 1 in that zone (using Levitus mask)\n",
      "  if ($obasn%|glo>TRUE|*>FALSE%) then\n",
      "    def sym basntitle \"Global\"\n",
      "    def sym basncode \"glo\"\n",
      "    let maskbasin = if bg ge -1 then 1\n",
      "  elif ($obasn%|atlarc>TRUE|*>FALSE%) then\n",
      "    def sym basntitle \"Atlantic\"\n",
      "    def sym basncode \"atl\"\n",
      "    let maskbasin = if bg eq 0 or bg0 eq 2 then 1\n",
      "  elif ($obasn%|pac>TRUE|*>FALSE%) then\n",
      "    def sym basntitle \"Pacific\"\n",
      "    def sym basncode \"pac\"\n",
      "    let maskbasin = if bg eq 1 then 1\n",
      "  elif ($obasn%|ind>TRUE|*>FALSE%) then\n",
      "    def sym basntitle \"Indian\"\n",
      "    def sym basncode \"ind\"\n",
      "    let maskbasin = if bg eq 4 then 1\n",
      "  elif ($obasn%|indopac>TRUE|*>FALSE%) then\n",
      "    def sym basntitle \"Indian + Pacific\"\n",
      "    def sym basncode \"indpac\"\n",
      "    let maskbasin = if (bg eq 4) OR (bg eq 1) then 1\n",
      "  endif\n",
      "\n",
      "  let maskbasin3D = reshape(maskbasin,mask[d=WOA2001_grid.nc])\n",
      "        \n",
      "set mode/last verify"
     ],
     "language": "python",
     "metadata": {},
     "outputs": [
      {
       "output_type": "stream",
       "stream": "stdout",
       "text": [
        "Writing choosebasin.jnl\n"
       ]
      }
     ],
     "prompt_number": 1
    },
    {
     "cell_type": "heading",
     "level": 4,
     "metadata": {},
     "source": [
      "<i>zmsurf.jnl</i> - plots surface zonal mean of given variable (must be on rectilinear grid)"
     ]
    },
    {
     "cell_type": "code",
     "collapsed": false,
     "input": [
      "%%writefile zmsurf.jnl\n",
      "\\cancel mode verify\n",
      "\n",
      "! Description: plots a zonal mean at surface [k=1] for selected basin\n",
      "! James Orr, LSCE/IPSL, CEA-CNRS-UVSQ, CEA Saclay, 1 Nov 2014\n",
      "! ============================================================\n",
      "\n",
      "  def sym var     $1%CO3%\n",
      "  def sym basn    $2%glo%\n",
      "  def sym xlabl   $3%no%\n",
      "  def sym ylabl   $4%no%\n",
      "  def sym latmin  $5%+70%\n",
      "  def sym latmax  $6%+90%\n",
      "  def sym pltopts $7\n",
      "  def sym overplt $8%over%\n",
      "\n",
      "! Select basin (mask out all others)\n",
      "  go choosebasin ($basn)\n",
      "    \n",
      "  let ($var)bmskd  = ($var) * maskbasin3D\n",
      "\n",
      "  if ($overplt%|over>FALSE|*>TRUE%) then  !Pre-plot setup (only if it is the 1st plot, i.e., not an overplot)\n",
      "!   ppl axnmtc 4, 4 \n",
      "!   ppl axlint 1, 1\n",
      "    ppl labset 0.2,0.19,0.19,0.15\n",
      "    ppl axlsze 0.19, 0.19\n",
      "!   ppl axlabp +1, -1\n",
      "  endif\n",
      "\n",
      "  plot/($pltopts) ($var)bmskd[x=@ave,k=1]\n",
      "\n",
      "  if ($overplt%|over>FALSE|*>TRUE%) then  !Post-plot setup (only if it is the 1st plot; not an overplot)\n",
      "!   ppl xfor ($xformat)\n",
      "    ppl yfor ($yformat)\n",
      "!   ppl cross 1\n",
      "    if ($xlabl%|no>FALSE|*>TRUE%) then\n",
      "      ppl xlab ($xlabl)\n",
      "    endif\n",
      "    if ($ylabl%|no>FALSE|*>TRUE%) then\n",
      "      ppl ylab ($ylabl)\n",
      "    endif\n",
      "    ppl plot\n",
      "  endif\n",
      "\n",
      "set mode/last verify"
     ],
     "language": "python",
     "metadata": {},
     "outputs": [
      {
       "output_type": "stream",
       "stream": "stdout",
       "text": [
        "Writing zmsurf.jnl\n"
       ]
      }
     ],
     "prompt_number": 2
    },
    {
     "cell_type": "heading",
     "level": 4,
     "metadata": {},
     "source": [
      "<i>dat2refgrid.jnl</i> - routine to interpolate data to reference grid (both are rectilinear grids)"
     ]
    },
    {
     "cell_type": "code",
     "collapsed": false,
     "input": [
      "%%writefile dat2refgrid.jnl\n",
      "\\cancel mode verify\n",
      "\n",
      "  def sym vardat   $1%ALK%\n",
      "  def sym varref   $2%mask%\n",
      "    \n",
      "  define grid/like=($varref) gridref\n",
      "    \n",
      "  set mode interpolate\n",
      "  let ($vardat)_refgrid = ($vardat)[gx=gridref, gy=gridref] \n",
      "\n",
      "set mode/last verify"
     ],
     "language": "python",
     "metadata": {},
     "outputs": [
      {
       "output_type": "stream",
       "stream": "stdout",
       "text": [
        "Writing dat2refgrid.jnl\n"
       ]
      }
     ],
     "prompt_number": 3
    }
   ],
   "metadata": {}
  }
 ]
}