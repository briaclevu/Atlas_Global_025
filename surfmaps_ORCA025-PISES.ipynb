{
 "metadata": {
  "name": "",
  "signature": "sha256:a5989a92467c1b693b28c4bfec93bdd03777a62e4df8cdd2d6f4a394d64f9573"
 },
 "nbformat": 3,
 "nbformat_minor": 0,
 "worksheets": [
  {
   "cells": [
    {
     "cell_type": "markdown",
     "metadata": {},
     "source": [
      "<hr>\n",
      "James ORR - 15/10/2014<br>\n",
      "\n",
      "<img align=\"left\" width=\"40%\" src=\"http://www.lsce.ipsl.fr/Css/img/banniere_LSCE_75.png\" \\><br><br>\n",
      "<hr>"
     ]
    },
    {
     "cell_type": "heading",
     "level": 1,
     "metadata": {},
     "source": [
      "ORCA025-PISCES model-data comparison: surface maps"
     ]
    },
    {
     "cell_type": "markdown",
     "metadata": {},
     "source": [
      "Make surface maps of some key biogeochemical variables from ORCA025-PISCES and compare to climatological data. To do this very basic, qualitative evaluation, use pyferret in IPython Notebook.\n",
      "\n",
      "After installing ferretmagic and loading it, this Notebook (1) makes a list of files to be treated, (2) makes and writes out three new plotting routines (Ferret go scripts: `mapmod.jnl`, `mapdat.jnl`, and `mod2datgrid.jnl`), and (3) uses those routines in subsequent cells to make surface maps of model results vs. climatological data."
     ]
    },
    {
     "cell_type": "heading",
     "level": 4,
     "metadata": {},
     "source": [
      "Install ferretmagic extension"
     ]
    },
    {
     "cell_type": "code",
     "collapsed": false,
     "input": [
      "%install_ext https://raw.github.com/PBrockmann/ipython-ferretmagic/master/ferretmagic.py"
     ],
     "language": "python",
     "metadata": {
      "slideshow": {
       "slide_type": "notes"
      }
     },
     "outputs": [
      {
       "output_type": "stream",
       "stream": "stdout",
       "text": [
        "Installed ferretmagic.py. To use it, type:\n",
        "  %load_ext ferretmagic\n"
       ]
      }
     ],
     "prompt_number": 1
    },
    {
     "cell_type": "heading",
     "level": 4,
     "metadata": {},
     "source": [
      "Load ferretmagic extension"
     ]
    },
    {
     "cell_type": "code",
     "collapsed": false,
     "input": [
      "%load_ext ferretmagic"
     ],
     "language": "python",
     "metadata": {},
     "outputs": [],
     "prompt_number": 2
    },
    {
     "cell_type": "code",
     "collapsed": false,
     "input": [
      "%%ferret\n",
      "!go page_new 3 1"
     ],
     "language": "python",
     "metadata": {},
     "outputs": [],
     "prompt_number": 3
    },
    {
     "cell_type": "heading",
     "level": 4,
     "metadata": {},
     "source": [
      "Build list of files from http://dods.idris.fr/rfry451/ORCA025-PIS2DIC/ in remote access and open it"
     ]
    },
    {
     "cell_type": "code",
     "collapsed": false,
     "input": [
      "%%ferret -q\n",
      "can data/all\n",
      "use \"http://prodn.idris.fr/thredds/dodsC/IDRISPUBFS/rfry451/ORCA025-PIS2DIC/GRID/mask.nc\"\n",
      "use \"http://prodn.idris.fr/thredds/dodsC/IDRISPUBFS/rfry451/ORCA025-PIS2DIC/MBG/Output/YE/ORCA025-PIS2DIC_20000101_20001231_1Y_ptrc_T.nc\"\n",
      "use \"/home/biomac1/blevu/DATA/CARS2009/phosphate_cars2009.nc\"\n",
      "use \"/home/biomac2/jpalm/WOA/phosphate_annual_1deg.nc\"\n",
      "sho data\n",
      "use \"/home/biomac1/blevu/DATA/CARS2009/nitrate_cars2009.nc\"\n",
      "use \"/home/biomac2/jpalm/WOA/nitrate_annual_1deg.nc\"\n",
      "use \"/home/biomac1/blevu/DATA/GLODAP/tco2_ann_Key.cdf\"    \n",
      "use \"/home/biomac1/blevu/DATA/GLODAP/talk_ann_Key.cdf\""
     ],
     "language": "python",
     "metadata": {},
     "outputs": [],
     "prompt_number": 4
    },
    {
     "cell_type": "heading",
     "level": 4,
     "metadata": {},
     "source": [
      "Define MYGRID to remove time axis of tmask which is unnecessary and interferes with time_counter axis of model output"
     ]
    },
    {
     "cell_type": "code",
     "collapsed": false,
     "input": [
      "%%ferret -q\n",
      "def grid/x=x/y=y/z=z mygrid\n",
      "set axis/name=xlon X\n",
      "set axis/name=ylat Y\n",
      "set axis/name=zdepth Z"
     ],
     "language": "python",
     "metadata": {},
     "outputs": [],
     "prompt_number": 5
    },
    {
     "cell_type": "heading",
     "level": 4,
     "metadata": {},
     "source": [
      "`mapmod.jnl`- Routine to make map of model output (curvilinear grid)"
     ]
    },
    {
     "cell_type": "code",
     "collapsed": false,
     "input": [
      "%%writefile mapmod.jnl\n",
      "\\cancel mode verify\n",
      "\n",
      "  def sym var     $1%DIC%\n",
      "  def sym lon     $2%lon%\n",
      "  def sym lat     $3%lat%\n",
      "  def sym xlabl   $4%no%\n",
      "  def sym ylabl   $5%no%\n",
      "  def sym pltopts $6\n",
      "  \n",
      "! James Orr, LSCE/IPSL, CEA-CNRS-UVSQ, CEA Saclay, 15 Oct 2014\n",
      "! ============================================================  \n",
      "! let varl = ($var)[x=@ave,y=($latmin):($latmax)@ave]\n",
      "  let varl = ($var)\n",
      "  \n",
      "  ppl labset 0.2,0.16,0.16,0.15\n",
      "  ppl axlsze 0.17, 0.17\n",
      "\n",
      "  ppl axnmtc 2, 2\n",
      "  ppl axlint 2, 1\n",
      "  ppl axlabp -1, -1\n",
      "  shade/nolab/set/hlim=120e:480e:30/vlim=90s:90n:30/mod/($pltopts) ($var), ($lon), ($lat)    \n",
      "  if ($xlabl%|no>FALSE|*>TRUE%) then\n",
      "    ppl xlab ($xlabl)\n",
      "  endif\n",
      "  if ($ylabl%|no>FALSE|*>TRUE%) then\n",
      "    ppl ylab ($ylabl)\n",
      "  endif\n",
      "    \n",
      "  ppl shade\n",
      "  go fland 60 gray36; go land\n",
      "\n",
      "set mode/last verify"
     ],
     "language": "python",
     "metadata": {},
     "outputs": [
      {
       "output_type": "stream",
       "stream": "stdout",
       "text": [
        "Overwriting mapmod.jnl\n"
       ]
      }
     ],
     "prompt_number": 6
    },
    {
     "cell_type": "heading",
     "level": 4,
     "metadata": {},
     "source": [
      "`mapdat.jnl` - routine to make map of data (regular grid)"
     ]
    },
    {
     "cell_type": "code",
     "collapsed": false,
     "input": [
      "%%writefile mapdat.jnl\n",
      "\\cancel mode verify\n",
      "\n",
      "  def sym var     $1%DIC%\n",
      "  def sym xlabl   $2%no%\n",
      "  def sym ylabl   $3%no%\n",
      "  def sym pltopts $4\n",
      "  \n",
      "! James Orr, LSCE/IPSL, CEA-CNRS-UVSQ, CEA Saclay, 15 Oct 2014\n",
      "! ============================================================  \n",
      "! let varl = ($var)[x=@ave,y=($latmin):($latmax)@ave]\n",
      "  let varl = ($var)\n",
      "  \n",
      "  ppl labset 0.2,0.16,0.16,0.15\n",
      "  ppl axlsze 0.17, 0.17\n",
      "\n",
      "  ppl axnmtc 2, 2\n",
      "  ppl axlint 2, 1\n",
      "  ppl axlabp -1, -1\n",
      "\n",
      "! Define as a module axis (e.g., not set in CARS) needed to show full map from 120E to 120E\n",
      "  set axis/mod `($var),RETURN=xaxis`\n",
      "\n",
      "  shade/nolab/set/x=240w:120e/hlim=120:480:30/vlim=90s:90n:30/mod/($pltopts) ($var)    \n",
      "  if ($xlabl%|no>FALSE|*>TRUE%) then\n",
      "    ppl xlab ($xlabl)\n",
      "  endif\n",
      "  if ($ylabl%|no>FALSE|*>TRUE%) then\n",
      "    ppl ylab ($ylabl)\n",
      "  endif\n",
      "    \n",
      "  ppl shade\n",
      "  go fland 60 gray36; go land\n",
      "\n",
      "set mode/last verify"
     ],
     "language": "python",
     "metadata": {},
     "outputs": [
      {
       "output_type": "stream",
       "stream": "stdout",
       "text": [
        "Overwriting mapdat.jnl\n"
       ]
      }
     ],
     "prompt_number": 7
    },
    {
     "cell_type": "heading",
     "level": 4,
     "metadata": {},
     "source": [
      "`mod2datgrid.jnl` - routine to interpolate model output to data grid (regular grid)"
     ]
    },
    {
     "cell_type": "code",
     "collapsed": false,
     "input": [
      "%%writefile mod2datgrid.jnl\n",
      "\\cancel mode verify\n",
      "\n",
      "  def sym varmod   $1%DIC%\n",
      "  def sym vardat   $2%ALK%\n",
      "  def sym lonsmod   $3\n",
      "  def sym latsmod   $4\n",
      "    \n",
      "  define grid/like=($vardat) gridref\n",
      "! sho grid gridref\n",
      "    \n",
      "  let lonsd = x[gx=`($vardat),return=xaxis`]\n",
      "  let latsd = y[gy=`($vardat),return=yaxis`]\n",
      "  let latsm = xsequence(($latsmod))\n",
      "  let lonsm = xsequence(($lonsmod))\n",
      "    \n",
      "! Fix problem when model longitude (range -180 to +180) is outside data longitude range (0 to 360.)\n",
      "  let lonsdmin = lonsd[i=@min]\n",
      "  let lonsdmax = lonsd[i=@max]\n",
      "  let lonsm_lo = if lonsm    lt lonsdmin then lonsm    + 360. else lonsm\n",
      "  let lonsmd   = if lonsm_lo gt lonsdmax then lonsm_lo - 360. else lonsm_lo\n",
      "      \n",
      "  let ($varmod)_reg = scat2grid_bin_xy(lonsmd, latsm, xsequence(($varmod)), lonsd, latsd)\n",
      "\n",
      "set mode/last verify"
     ],
     "language": "python",
     "metadata": {},
     "outputs": [
      {
       "output_type": "stream",
       "stream": "stdout",
       "text": [
        "Overwriting mod2datgrid.jnl\n"
       ]
      }
     ],
     "prompt_number": 8
    },
    {
     "cell_type": "heading",
     "level": 4,
     "metadata": {},
     "source": [
      "Define proper lat, lon coordinates from MASK and MYGRID "
     ]
    },
    {
     "cell_type": "code",
     "collapsed": false,
     "input": [
      "%%ferret\n",
      "let lon_masked=if TMASK[g=mygrid, d=1, k=1] eq 1 then nav_lon[d=1]\n",
      "let lat_masked=if TMASK[g=mygrid, d=1, k=1] eq 1 then nav_lat[d=1]\n",
      "\n",
      "set variable/units=\"degrees_east\"/title=\"Longitude\" lon_masked\n",
      "set variable/units=\"degrees_north\"/title=\"Latitude\" lat_masked"
     ],
     "language": "python",
     "metadata": {},
     "outputs": [],
     "prompt_number": 9
    },
    {
     "cell_type": "heading",
     "level": 4,
     "metadata": {},
     "source": [
      "Set memories and subreg for big data"
     ]
    },
    {
     "cell_type": "code",
     "collapsed": false,
     "input": [
      "%%ferret\n",
      "! Consider only every 4th data point in x and y directions to conserve computational time (roughly 1/4\u00b0 -> 1\u00b0)\n",
      "! def sym subreg=i=1:1442:4,j=1:1021:4\n",
      "\n",
      "! Consider every data point in x and y directions (more costly; finer details may not be noticible on globap maps)\n",
      "  def sym subreg=i=1:1442:1,j=1:1021:1\n",
      "  set mem/siz=300"
     ],
     "language": "python",
     "metadata": {},
     "outputs": [],
     "prompt_number": 10
    },
    {
     "cell_type": "heading",
     "level": 3,
     "metadata": {},
     "source": [
      "PO$_4^{3-}$ maps"
     ]
    },
    {
     "cell_type": "markdown",
     "metadata": {},
     "source": [
      "To use the custom palettes below, you may need to add my directory to your FER_PALETTE environment variable.\n",
      "If the output below does not end in \"/home/users/orr/ferret/palettes\", uncomment the last 2 lines and rerun this cell.\n",
      "If these palettes are still not available you can manually do this command in your .bashrc file \n",
      "or make the equivalent command in your .csrhc file (when running csh or tcsh). After testing, only the manual addition will work."
     ]
    },
    {
     "cell_type": "code",
     "collapsed": false,
     "input": [
      "#%%bash --out mybashenv\n",
      "## Actually these results are not preserved: after the cell is run\n",
      "#echo $FER_PALETTE\n",
      "#export FER_PALETTE=\"${FER_PALETTE} /home/users/orr/ferret/palettes\"\n",
      "#echo $FER_PALETTE"
     ],
     "language": "python",
     "metadata": {},
     "outputs": []
    },
    {
     "cell_type": "code",
     "collapsed": false,
     "input": [
      "%%ferret -q -s 800,400 \n",
      "!%%ferret -q -p -f surfmap_ORCA025-PISCES_PO4.pdf\n",
      "  set mode verify\n",
      "  let var=PO4[d=2]/122*1e6\n",
      "  let myvar=if TMASK[d=1,g=mygrid] eq 1 then var\n",
      "\n",
      "! Choose color palette: most below are custom made (put asterix:/home/users/orr/ferret/palettes in $FER_PALETTE env variable)\n",
      "! def sym opal rain_cmyk\n",
      "! def sym opal rain0_cmyk\n",
      "! def sym opal lodyc\n",
      "! def sym opal myblue_darkorange\n",
      "  def sym opal nair1_cmyk\n",
      "! def sym opal light_centered\n",
      "\n",
      "! specify model field (datm) and data field (datd)\n",
      "  let datm = myvar[k=1,l=1]\n",
      "  let datd = mean[d=3,k=1]\n",
      "\n",
      "! Make 3 plots:\n",
      "! -------------\n",
      "  go page_new 1 3 5 95 0 100 0 0\n",
      "  set win/clear\n",
      "  go boldf_plattner\n",
      "\n",
      "! 1) Model\n",
      "  set view 1\n",
      "  go margins_set 15 8 8 10\n",
      "  go mapmod datm[($subreg)] lon_masked[($subreg)] lat_masked[($subreg)] no Latitude \"/lev=(0,2,0.2)/pal=($opal)\"\n",
      "\n",
      "! 2) Data\n",
      "  set view 2\n",
      "  go margins_set 8 15 8 10\n",
      "  go mapdat datd no Latitude \"/lev=(0,2,0.2)/pal=($opal)\"\n",
      "\n",
      "! 3) Model - Data difference\n",
      "  set view 3\n",
      "  go margins_set 1 22 8 10\n",
      "  def sym opal light_centered\n",
      "\n",
      "  go mod2datgrid datm datd lon_masked lat_masked\n",
      "\n",
      "! Compute model - data difference on data grid \n",
      "! -> reshape command below works around bug in Ferret 6.9 (should not be needed; without it, cannot make map w/ right LON limits)\n",
      "  let diffmd = reshape(datm_reg - datd, datd)\n",
      "  go mapdat diffmd Longitude Latitude \"/lev=(-inf)(-1.4,1.4,0.2)(-0.1,0.1,0.2)(inf)/pal=($opal)\""
     ],
     "language": "python",
     "metadata": {},
     "outputs": []
    },
    {
     "cell_type": "heading",
     "level": 4,
     "metadata": {},
     "source": [
      "Fig. 1. Surface PO$_4^{3-}$ maps: (top) model in year 2000, (middle) CARS climtology, and (bottom) model-data difference."
     ]
    },
    {
     "cell_type": "markdown",
     "metadata": {},
     "source": [
      "ORCA025-PISCES overestimates observed surface phosphate concentrations in the low latitudes and underestimates the same in the high latitudes, particularly in HNLC regions (North Pacific and Southern Ocean). In the Arctic, the model has particularly high values in coastal waters just north of Siberia; conversely, available observations (summer biased) indicate particularly low values. The largest differences appear to be in or near ice covered regions. Model results in marginal seas may stand out visually but are not to be taken seriously due in part to poor initial conditions as well as inadequate resolution and tuning."
     ]
    },
    {
     "cell_type": "heading",
     "level": 3,
     "metadata": {},
     "source": [
      "NO$_3^-$ maps"
     ]
    },
    {
     "cell_type": "code",
     "collapsed": false,
     "input": [
      "%%ferret -q -s 800,400\n",
      "!%%ferret -q -p -f surfmap_ORCA025-PISCES_NO3.pdf\n",
      "  let var=NO3[d=2]*16/122*1e6\n",
      "  let myvar=if TMASK[d=1,g=mygrid] eq 1 then var\n",
      "\n",
      "  let datm = myvar[k=1,l=1]\n",
      "  let datd = mean[d=5,k=1]\n",
      "! let datd = N_AN[d=6,k=2]\n",
      "\n",
      "  go page_new 1 3 5 95 0 100 0 0\n",
      "  set win/clear\n",
      "  go boldf_plattner\n",
      "\n",
      "! 1) Model\n",
      "  set view 1\n",
      "  go margins_set 15 8 8 10\n",
      "  def sym opal nair1_cmyk\n",
      "  go mapmod datm[($subreg)] lon_masked[($subreg)] lat_masked[($subreg)] no Latitude \"/lev=(0,30,3)(O.5,1,0.5)/pal=($opal)\"\n",
      "\n",
      "! 2) Data\n",
      "  set view 2\n",
      "  go margins_set 8 15 8 10\n",
      "  go mapdat datd no Latitude \"/lev=(0,30,3)(0.5,1,0.5)/pal=($opal)\"\n",
      "\n",
      "! 3) Model - Data difference\n",
      "  set view 3\n",
      "  go margins_set 1 22 8 10\n",
      "  def sym opal light_centered\n",
      "! Regrid model to data grid\n",
      "  go mod2datgrid datm datd lon_masked lat_masked\n",
      "! Compute model - data difference (on data grid) \n",
      "! -> reshape command below works around bug in Ferret 6.9 (should not be needed; without it, cannot make map w/ right LON limits)\n",
      "  let diffmd = reshape(datm_reg - datd, datd)\n",
      "! Make map\n",
      "  go mapdat diffmd Longitude Latitude \"/lev=(-inf)(-24,24,4)(-2,2,4)(inf)/pal=($opal)\"\n"
     ],
     "language": "python",
     "metadata": {},
     "outputs": []
    },
    {
     "cell_type": "heading",
     "level": 4,
     "metadata": {},
     "source": [
      "Fig. 2. Surface NO$_3^-$ maps: (top) model in year 2000, (middle) CARS climtology, and (bottom) model-data difference."
     ]
    },
    {
     "cell_type": "markdown",
     "metadata": {},
     "source": [
      "As seen in Fig. 1 for phosphate, ORCA025-PISCES also underestimates surface nitrate in the high latitudes, particularly in HNLC regions (North Pacific and Southern Ocean). In the low latitudes model-data differences are generally small in absolute terms. Larger absolute differences are seen in regions of mode water formation in the Southern Ocean and North Pacific. In the Arctic, simulated nitrate appears much larger than observed in coastal waters just north of Siberia, as seen for phosphate (Fig. 1). Elsewhere in the Arctic simulated surface nitrate is generally larger than observed, whereas simulated surface phosphate is generally less than observed."
     ]
    },
    {
     "cell_type": "heading",
     "level": 3,
     "metadata": {},
     "source": [
      "C$_T$ maps"
     ]
    },
    {
     "cell_type": "code",
     "collapsed": false,
     "input": [
      "%%ferret -q -s 800,400\n",
      "!%%ferret -q -p -f surfmap_ORCA025-PISCES_Ct.pdf\n",
      "  let var=DIC2[d=2]/1.028e-6\n",
      "  let myvar=if TMASK[d=1,g=mygrid] eq 1 then var\n",
      "\n",
      "  let datm = myvar[k=1,l=1]\n",
      "  let datd = TCO2[d=7,k=2]\n",
      "\n",
      "  go page_new 1 3 5 95 0 100 0 0\n",
      "  set win/clear\n",
      "  go boldf_plattner\n",
      "\n",
      "! 1) Model\n",
      "  set view 1\n",
      "  go margins_set 15 8 8 10\n",
      "  def sym opal nair1_cmyk\n",
      "  go mapmod datm[($subreg)] lon_masked[($subreg)] lat_masked[($subreg)] no Latitude \"/lev=(-inf)(1800,2300,25)(inf)/pal=($opal)\"\n",
      "\n",
      "! 2) Data\n",
      "  set view 2\n",
      "  go margins_set 8 15 8 10\n",
      "  go mapdat datd no Latitude \"/lev=(-inf)(1800,2300,25)(inf)/pal=($opal)\"\n",
      "\n",
      "! 3) Model - Data difference\n",
      "  set view 3\n",
      "  go margins_set 1 22 8 10\n",
      "  def sym opal light_centered\n",
      "! Regrid model to data grid\n",
      "  go mod2datgrid datm datd lon_masked lat_masked\n",
      "! Compute model - data difference (on data grid) \n",
      "! -> reshape command below works around bug in Ferret 6.9 (should not be needed; without it, cannot make map w/ right LON limits)\n",
      "  let diffmd = reshape(datm_reg - datd, datd)\n",
      "! Make map\n",
      "  go mapdat diffmd Longitude Latitude \"/lev=(-inf)(-100,100,20)(-10,10,5)(inf)/pal=($opal)\"\n"
     ],
     "language": "python",
     "metadata": {},
     "outputs": []
    },
    {
     "cell_type": "heading",
     "level": 4,
     "metadata": {},
     "source": [
      "Fig. 3. Surface C$_T$ maps: (top) model in year 2000, (middle) GLODAP climtology (Key et al., 2004), and (bottom) model-data difference."
     ]
    },
    {
     "cell_type": "markdown",
     "metadata": {},
     "source": [
      "Simulated surface C$_T$ in ORCA025-PISCES overestimates the observed GLODAP climatology in the subarctic Pacific and parts of the equatorial Pacific and Southern Ocean (by up to 60 $\\mu$mol kg$^{-1}$), while it underestimates the GLODAP reference by at least as much in the Northern Indian Ocean as well as the low and mid latitudes of the Atlantic Ocean. The pattern of high C$_T$ in coastal waters just north of Siberia is similar to that for nutrient concentrations (Figs. 1 and 2). "
     ]
    },
    {
     "cell_type": "heading",
     "level": 3,
     "metadata": {},
     "source": [
      "A$_T$ maps"
     ]
    },
    {
     "cell_type": "code",
     "collapsed": false,
     "input": [
      "%%ferret -q -s 800,400\n",
      "!%%ferret -q -p -f surfmap_ORCA025-PISCES_At.pdf\n",
      "\n",
      "  let var=ALKALINI2[d=2]/1.028e-6\n",
      "  let myvar=if TMASK[d=1,g=mygrid] eq 1 then var\n",
      "\n",
      "  let datm = myvar[k=1,l=1]\n",
      "  let datd = TALK[d=8,k=1]\n",
      "\n",
      "  go page_new 1 3 5 95 0 100 0 0\n",
      "  set win/clear\n",
      "  go boldf_plattner\n",
      "\n",
      "! 1) Model\n",
      "  set view 1\n",
      "  go margins_set 15 8 8 10\n",
      "  def sym opal nair1_cmyk\n",
      "  go mapmod datm[($subreg)] lon_masked[($subreg)] lat_masked[($subreg)] no Latitude \"/lev=(-inf)(1900,2400,25)(inf)/pal=($opal)\"\n",
      "\n",
      "! 2) Data\n",
      "  set view 2\n",
      "  go margins_set 8 15 8 10\n",
      "  go mapdat datd no Latitude \"/lev=(-inf)(1900,2400,25)(inf)/pal=($opal)\"\n",
      "\n",
      "! 3) Model - Data difference\n",
      "  set view 3\n",
      "  go margins_set 1 22 8 10\n",
      "  def sym opal light_centered\n",
      "! Regrid model to data grid\n",
      "  go mod2datgrid datm datd lon_masked lat_masked\n",
      "! Compute model - data difference (on data grid) \n",
      "! -> reshape command below works around bug in Ferret 6.9 (should not be needed; without it, cannot make map w/ right LON limits)\n",
      "  let diffmd = reshape(datm_reg - datd, datd)\n",
      "! Make map\n",
      "  go mapdat diffmd Longitude Latitude \"/lev=(-inf)(-100,100,20)(-10,10,5)(inf)/pal=($opal)\"\n"
     ],
     "language": "python",
     "metadata": {},
     "outputs": []
    },
    {
     "cell_type": "heading",
     "level": 4,
     "metadata": {},
     "source": [
      "Fig. 4. Surface A$_T$ maps: (top) model in year 2000, (middle) GLODAP climtology (Key et al., 2004), and (bottom) model-data difference."
     ]
    },
    {
     "cell_type": "markdown",
     "metadata": {},
     "source": [
      "The difference between simulated surface A$_T$ and the observed GLODAP climatology resembles that for C$_T$ (Fig. 3), namely with underestimates by more than 80 $\\mu$mol kg$^{-1}$ in the Northern Indian Ocean as well as the low and mid latitudes of the Atlantic Ocean. Yet overestimates of simulated A$_T$ are smaller in the equatorial Pacific and Southern Ocean (less than 20 $\\mu$mol kg$^{\u22121}$). The pattern of high CT in coastal waters just north of Siberia is similar to that for nutrient concentrations (Figs. 1 and 2). In Siberian coastal waters, we see the same pattern of high $A_T$ as seen for $C_T$ and nutrients. "
     ]
    },
    {
     "cell_type": "heading",
     "level": 3,
     "metadata": {},
     "source": [
      "A$_T$ $-$ C$_T$ maps"
     ]
    },
    {
     "cell_type": "code",
     "collapsed": false,
     "input": [
      "%%ferret -q -s 800,400\n",
      "!%%ferret -q -p -f surfmap_ORCA025-PISCES_At-Ct.pdf\n",
      "  set mem/siz=300\n",
      "  let var=(ALKALINI2[d=2] - DIC[d=2])/1.028e-6\n",
      "  let myvar=if TMASK[d=1,g=mygrid] eq 1 then var\n",
      "\n",
      "  let datm = myvar[k=1,l=1]\n",
      "  let datd = TALK[d=8,k=2] - TCO2[d=7,k=2]\n",
      "\n",
      "  go page_new 1 3 5 95 0 100 0 0\n",
      "  set win/clear\n",
      "  go boldf_plattner\n",
      "  def sym olevs (-inf)(120,380,20)(inf)\n",
      "\n",
      "! 1) Model\n",
      "  set view 1\n",
      "  go margins_set 15 8 8 10\n",
      "  def sym opal nair1_cmyk\n",
      "  go mapmod datm[($subreg)] lon_masked[($subreg)] lat_masked[($subreg)] no Latitude \"/lev=($olevs)/pal=($opal)\"\n",
      "\n",
      "! 2) Data\n",
      "  set view 2\n",
      "  go margins_set 8 15 8 10\n",
      "  go mapdat datd no Latitude \"/lev=($olevs)/pal=($opal)\"\n",
      "\n",
      "! 3) Model - Data difference\n",
      "  set view 3\n",
      "  go margins_set 1 22 8 10\n",
      "  def sym opal light_centered\n",
      "! Regrid model to data grid\n",
      "  go mod2datgrid datm datd lon_masked lat_masked\n",
      "! Compute model - data difference (on data grid) \n",
      "! -> reshape command below works around bug in Ferret 6.9 (should not be needed; without it, cannot make map w/ right LON limits)\n",
      "  let diffmd = reshape(datm_reg - datd, datd)\n",
      "! Make map\n",
      "  go mapdat diffmd Longitude Latitude \"/lev=(-inf)(-50,50,10)(-10,10,5)(inf)/pal=($opal)\""
     ],
     "language": "python",
     "metadata": {},
     "outputs": []
    },
    {
     "cell_type": "heading",
     "level": 4,
     "metadata": {},
     "source": [
      "Fig. 5. Surface maps of A$_T$ $-$ C$_T$: (top) model in year 2000, (middle) GLODAP climtology (Key et al., 2004), and (bottom) model-data difference."
     ]
    },
    {
     "cell_type": "markdown",
     "metadata": {},
     "source": [
      "The simulated difference in A$_T$ $-$ C$_T$ may be used for a very rough proxy of carbonate ion concentration (a better proxy would be A$_C$ $-$ C$_T$, but A$_C$ would have to be calculated offline.  The model-data difference for A$_T$ $-$ C$_T$ is usually much smaller than seen for A$_T$ and C$_T$ tracers individually. The model overestimates this difference in Eastern Boundary Upwelling Systems (EBUS), e.g., in the California Current, Humboldt Current, and Canary Current systems.  It also overestimates the same quantity offshore of Southeast Asia, Eastern Australia, and in the Arabian Sea. However in these near coastal areas, GLODAP data coverage is sparse at best. The largest underestimates of the A$_C$ $-$ C$_T$ difference are found in Sea of Okhotsh and Bering Sea, the subpolar Northwestern Atlantic, and the Bay of Bengal. In the open ocean, the simulated A$_C$ $-$ C$_T$ difference typically overestimates the GLODAP based estimate by about 20 $\\mu$mol kg$^{-1}$. The opposite tendancy (underestimates by around 20 $\\mu$mol kg$^{-1}$) occurs over most of the Southern Ocean, particularly in the Atlantic and Indian sectors."
     ]
    }
   ],
   "metadata": {}
  }
 ]
}