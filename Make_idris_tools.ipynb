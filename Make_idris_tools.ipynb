{
 "metadata": {
  "name": "",
  "signature": "sha256:6fa0d2fa7591a6629f56e037a2a9526b711545bdca5453cbf7df42894af99c08"
 },
 "nbformat": 3,
 "nbformat_minor": 0,
 "worksheets": [
  {
   "cells": [
    {
     "cell_type": "markdown",
     "metadata": {},
     "source": [
      "<hr>\n",
      "Briac LE VU - 24/10/2014<br>\n",
      "\n",
      "<img align=\"left\" width=\"40%\" src=\"http://www.lsce.ipsl.fr/Css/img/banniere_LSCE_75.png\" \\><br><br>\n",
      "<hr>"
     ]
    },
    {
     "cell_type": "heading",
     "level": 1,
     "metadata": {},
     "source": [
      "ORCA025-PISCES Model Analyses Scripts"
     ]
    },
    {
     "cell_type": "markdown",
     "metadata": {},
     "source": [
      "Make script.sh for Time Series (TS) and Climatology (CLIM) to be run on idris after mfget the ORCA025 Output.\n",
      "These script.sh, in the order they have to be use, are:\n",
      "* mfget_orca025.sh\n",
      "* make_ts_YE.sh\n",
      "* make_clim_YE.sh\n",
      "* make_ts_MO.sh\n",
      "* make_ts_MO_from5DA.sh\n",
      "* 5d2mon.jnl\n",
      "* make_clim_MO.sh\n",
      "* select_var.sh\n",
      "* rm_file.sh\n",
      "* mfput_orca025.sh"
     ]
    },
    {
     "cell_type": "heading",
     "level": 4,
     "metadata": {},
     "source": [
      "<i>mfget_orca025.sh</i> - Routine to copy model output to idris tmpdir"
     ]
    },
    {
     "cell_type": "code",
     "collapsed": false,
     "input": [
      "%%writefile mfget_orca025.sh\n",
      "# Caution do not keep all these files in the workdir at the same time\n",
      "\n",
      "# mfget the model output ORCA025 to the idris $workdir to produce analyses file\n",
      "export indir=/arch/home/rech/fry/rfry451/IGCM_OUT/ORCA025_LIM2_PISCES/ORCA025-PIS2DIC\n",
      "\n",
      "#1: get the MBG yearly output ptrc and diad\n",
      "export deb=1958\n",
      "export fin=2010\n",
      "# go to the MBG/YE tmpdir \n",
      "cd ${WORKDIR}/temp/ORCA025/MBG/YE\n",
      "# get the ptrc and diad of each year\n",
      "for ((an = $deb; an <= $fin; an++)); do\n",
      "    mfget ${indir}/MBG/Output/YE/ORCA025-PIS2DIC_${an}0101_${an}1231_1Y_ptrc_T.nc .\n",
      "    mfget ${indir}/MBG/Output/YE/ORCA025-PIS2DIC_${an}0101_${an}1231_1Y_diad_T.nc .\n",
      "done\n",
      "\n",
      "#2: get the OCE yearly output grid\n",
      "export deb=1958\n",
      "export fin=2010\n",
      "# go to the OCE/YE tmpdir \n",
      "cd ${WORKDIR}/temp/ORCA025/OCE/YE\n",
      "# get the grid of each year\n",
      "for ((an = $deb; an <= $fin; an++)); do\n",
      "    mfget ${indir}/OCE/Output/YE/ORCA025-PIS2DIC_${an}0101_${an}1231_1Y_grid_T.nc .\n",
      "done\n",
      "\n",
      "#3: get the MBG monthly output fields\n",
      "export deb=1958\n",
      "export fin=2010\n",
      "# go to the MBG/MO tmpdir \n",
      "cd ${WORKDIR}/temp/ORCA025/MBG/MO\n",
      "# get each monthly field of each year\n",
      "for field in PO4 NIT SIL CHL OXY FER DIC ALK CO3 PH\n",
      "do\n",
      " for ((an = $deb; an <= $fin; an++)); do\n",
      "    mfget ${indir}/MBG/Output/MO/ORCA025-PIS2DIC_${an}0101_${an}1231_1M_${field}.nc .\n",
      " done\n",
      "done\n",
      "\n",
      "#4: get the OCE monthly output fields\n",
      "export deb=1991\n",
      "export fin=2010\n",
      "# go to the MBG/MO tmpdir \n",
      "cd ${WORKDIR}/temp/ORCA025/OCE/MO\n",
      "# get the monthly grid of each year\n",
      "for ((an = $deb; an <= $fin; an++)); do\n",
      "    mfget ${indir}/OCE/Output/MO/ORCA025-PIS2DIC_${an}0101_${an}1231_1M_grid_T.nc .\n",
      "done\n",
      "\n",
      "#5: get the MBG 5 daily output fields\n",
      "export deb=1958\n",
      "export fin=2010\n",
      "# go to the MBG/DA tmpdir \n",
      "cd ${WORKDIR}/temp/ORCA025/MBG/DA\n",
      "# get each 5 daily field of each year\n",
      "for ((an = $deb; an <= $fin; an++)); do\n",
      "    mfget ${indir}/MBG/Output/DA/ORCA025-PIS2DIC_${an}0101_${an}1231_5D_diad_T.nc .\n",
      "done\n"
     ],
     "language": "python",
     "metadata": {},
     "outputs": [
      {
       "output_type": "stream",
       "stream": "stdout",
       "text": [
        "Overwriting mfget_orca025.sh\n"
       ]
      }
     ],
     "prompt_number": 3
    },
    {
     "cell_type": "heading",
     "level": 4,
     "metadata": {},
     "source": [
      "<i>make_ts_YE.sh</i> - Routine to produce yearly time series"
     ]
    },
    {
     "cell_type": "code",
     "collapsed": false,
     "input": [
      "%%writefile make_ts_YE.sh\n",
      "# produce surface yearly time series from model output\n",
      "export tmpdir=${WORKDIR}/temp/ORCA025\n",
      "export outdir=${WORKDIR}/ORCA025-PIS2DIC\n",
      "\n",
      "#1: yearly surface timeseries for MBG ptrc\n",
      "export deb=1958\n",
      "export fin=2010\n",
      "\n",
      "echo Year mean surface MBG fields for the period $deb to $fin\n",
      "\n",
      "for field in NO3 PO4 O2 Si DIC DIC2 Alkalini Alkalini2 Fer NCHL DCHL\n",
      "do\n",
      " echo field $field\n",
      " cdo -f nc select,name=${field},levidx=1 ${tmpdir}/MBG/YE/ORCA025-PIS2DIC_*_1Y_ptrc_T.nc ${outdir}/MBG/Analyse/TS_YE/ORCA025_${deb}_${fin}_1Y_${field}_surf.nc\n",
      "done\n",
      "\n",
      "#2: yearly surface timeseries for MBG diad\n",
      "for field in PH PH2 CO3 CO32 Cflx Cflx2 Kg Oflx\n",
      "do\n",
      " echo field $field\n",
      " cdo -f nc select,name=${field},levidx=1 ${tmpdir}/MBG/YE/ORCA025-PIS2DIC_*_1Y_diad_T.nc ${outdir}/MBG/Analyse/TS_YE/ORCA025_${deb}_${fin}_1Y_${field}_surf.nc\n",
      "done\n",
      "\n",
      "#3: yearly surface timeseries for OCE grid\n",
      "export deb=1986\n",
      "export fin=2010\n",
      "\n",
      "echo Year mean surface OCE fields for the period present $deb to $fin\n",
      "\n",
      "for field in votemper vosaline somxl010\n",
      "do\n",
      " echo field $field\n",
      " cdo -f nc select,name=${field},levidx=1 ${tmpdir}/OCE/YE/ORCA025-PIS2DIC_*_1Y_grid_T.nc ${outdir}/OCE/Analyse/TS_YE/ORCA025_${deb}_${fin}_1Y_${field}_surf.nc\n",
      "done\n"
     ],
     "language": "python",
     "metadata": {},
     "outputs": [
      {
       "output_type": "stream",
       "stream": "stdout",
       "text": [
        "Overwriting TOOLS/make_ts_YE.sh\n"
       ]
      }
     ],
     "prompt_number": 2
    },
    {
     "cell_type": "heading",
     "level": 4,
     "metadata": {},
     "source": [
      "<i>make_clim_YE.sh</i> - Routine to produce yearly climatology"
     ]
    },
    {
     "cell_type": "code",
     "collapsed": false,
     "input": [
      "%%writefile make_clim_YE.sh\n",
      "# produce surface yearly climatology from time series\n",
      "export outdir=${WORKDIR}/ORCA025-PIS2DIC\n",
      "\n",
      "export deb=1991\n",
      "export fin=2010\n",
      "\n",
      "#1: yearly surface climatology for MBG \n",
      "echo Year mean surface MBG field for the period $deb to $fin\n",
      "for field in NO3 PO4 O2 Si DIC DIC2 Alkalini Alkalini2 Fer NCHL DCHL PH PH2 CO3 CO32 Cflx Cflx2 Kg Oflx\n",
      "do\n",
      " echo field $field\n",
      " cdo timselmean,10,3 ${outdir}/MBG/Analyse/TS_YE/ORCA025_1958_2010_1Y_${field}_surf.nc ${outdir}/MBG/Analyse/CLIM_YE/ORCA025_${deb}_${fin}_10Y_${field}_surf.nc\n",
      "done\n",
      "\n",
      "#2: yearly surface climatology for OCE \n",
      "echo Year mean surface OCE field for the period present $deb to $fin\n",
      "for field in votemper vosaline somxl010\n",
      "do\n",
      " echo field $field\n",
      " cdo timselmean,10,5 ${outdir}/OCE/Analyse/TS_YE/ORCA025_1986_2010_1Y_${field}_surf.nc ${outdir}/OCE/Analyse/CLIM_YE/ORCA025_${deb}_${fin}_10Y_${field}_surf.nc\n",
      "done\n"
     ],
     "language": "python",
     "metadata": {},
     "outputs": [
      {
       "output_type": "stream",
       "stream": "stdout",
       "text": [
        "Overwriting TOOLS/make_clim_YE.sh\n"
       ]
      }
     ],
     "prompt_number": 3
    },
    {
     "cell_type": "heading",
     "level": 4,
     "metadata": {},
     "source": [
      "<i>make_ts_MO.sh</i> - Routine to produce monthly time series"
     ]
    },
    {
     "cell_type": "code",
     "collapsed": false,
     "input": [
      "%%writefile make_ts_MO.sh\n",
      "# produce surface monthly time series from model output\n",
      "export tmpdir=${WORKDIR}/temp/ORCA025/MBG/MO\n",
      "export outdir=${WORKDIR}/ORCA025-PIS2DIC\n",
      "\n",
      "export deb=197\n",
      "export fin=200\n",
      "\n",
      "#1: Monthly surface timeseries for MBG with fieldname = varname + varname2\n",
      "echo Monthly mean surface MBG for the period ${deb}1 to $(($fin+1))0\n",
      "\n",
      "for field in DIC CO3 PH\n",
      "do\n",
      " echo field $field\n",
      " for ((an = $deb; an <= $fin; an++))\n",
      " do\n",
      "  echo ${an}1 to $((${an}+1))0\n",
      "  cdo -f nc select,name=${field},levidx=1 ${tmpdir}/ORCA025-PIS2DIC_${an}[123456789]*_1M_${field}.nc ${tmpdir}/ORCA025-PIS2DIC_$((${an}+1))0*_1M_${field}.nc ${outdir}/MBG/Analyse/TS_MO/ORCA025_${an}1_$((${an}+1))0_1M_${field}_surf.nc\n",
      "  cdo -f nc select,name=${field}2,levidx=1 ${tmpdir}/ORCA025-PIS2DIC_${an}[123456789]*_1M_${field}.nc ${tmpdir}/ORCA025-PIS2DIC_$((${an}+1))0*_1M_${field}.nc ${outdir}/MBG/Analyse/TS_MO/ORCA025_${an}1_$((${an}+1))0_1M_${field}2_surf.nc\n",
      " done\n",
      " cdo -f nc select,name=${field},levidx=1 ${tmpdir}/ORCA025-PIS2DIC_195*_1M_${field}.nc ${tmpdir}/ORCA025-PIS2DIC_196[123456789]*_1M_${field}.nc ${tmpdir}/ORCA025-PIS2DIC_1970*_1M_${field}.nc ${outdir}/MBG/Analyse/TS_MO/ORCA025_1958_1970_1M_${field}_surf.nc\n",
      " cdo -f nc select,name=${field}2,levidx=1 ${tmpdir}/ORCA025-PIS2DIC_195*_1M_${field}.nc ${tmpdir}/ORCA025-PIS2DIC_196[123456789]*_1M_${field}.nc ${tmpdir}/ORCA025-PIS2DIC_1970*_1M_${field}.nc ${outdir}/MBG/Analyse/TS_MO/ORCA025_1958_1970_1M_${field}2_surf.nc\n",
      "done\n",
      "\n",
      "#2: Monthly surface timeseries for MBG with fieldname # varname\n",
      "for field in PO4 NIT SIL CHL OXY FER ALK CO3\n",
      "do\n",
      " echo field $field\n",
      " for ((an = $deb; an <= $fin; an++))\n",
      " do\n",
      "  echo ${an}1 to $((${an}+1))0\n",
      "  cdo -f nc select,levidx=1 ${tmpdir}/ORCA025-PIS2DIC_${an}[123456789]*_1M_${field}.nc ${tmpdir}/ORCA025-PIS2DIC_$((${an}+1))0*_1M_${field}.nc ${outdir}/MBG/Analyse/TS_MO/ORCA025_${an}1_$((${an}+1))0_1M_${field}_surf.nc\n",
      " done\n",
      " cdo -f nc select,levidx=1 ${tmpdir}/ORCA025-PIS2DIC_195*_1M_${field}.nc ${tmpdir}/ORCA025-PIS2DIC_196[123456789]*_1M_${field}.nc ${tmpdir}/ORCA025-PIS2DIC_1970*_1M_${field}.nc ${outdir}/MBG/Analyse/TS_MO/ORCA025_1958_1970_1M_${field}_surf.nc\n",
      "done\n",
      "\n",
      "#3: Monthly surface timeseries for OCE\n",
      "export tmpdir=${WORKDIR}/temp/ORCA025/OCE/MO\n",
      "for field in votemper vosaline somxl010\n",
      "do\n",
      " echo field $field\n",
      " for ((an = $deb; an <= $fin; an++))\n",
      " do\n",
      "  echo ${an}1 to $((${an}+1))0\n",
      "  cdo -f nc select,name=${field},levidx=1 ${tmpdir}/ORCA025-PIS2DIC_${an}[123456789]*_1M_grid_T.nc ${tmpdir}/ORCA025-PIS2DIC_$((${an}+1))0*_1M_grid_T.nc ${outdir}/OCE/Analyse/TS_MO/ORCA025_${an}1_$((${an}+1))0_1M_${field}_surf.nc\n",
      " done\n",
      " cdo -f nc select,name=${field},levidx=1 ${tmpdir}/ORCA025-PIS2DIC_195*_1M_grid_T.nc ${tmpdir}/ORCA025-PIS2DIC_196[123456789]*_1M_grid_T.nc ${tmpdir}/ORCA025-PIS2DIC_1970*_1M_grid_T.nc ${outdir}/OCE/Analyse/TS_MO/ORCA025_1958_1970_1M_${field}_surf.nc\n",
      "done\n",
      "\n",
      "#4: extract field from the file with different name than yearly field and erase that file\n",
      "sh ./select_var.sh\n",
      "sh ./rm_file.sh\n"
     ],
     "language": "python",
     "metadata": {},
     "outputs": [
      {
       "output_type": "stream",
       "stream": "stdout",
       "text": [
        "Overwriting make_ts_MO.sh\n"
       ]
      }
     ],
     "prompt_number": 4
    },
    {
     "cell_type": "heading",
     "level": 4,
     "metadata": {},
     "source": [
      "<i>select_var.sh</i> - Routine to extract var from Monthly time series"
     ]
    },
    {
     "cell_type": "code",
     "collapsed": false,
     "input": [
      "%%writefile select_var.sh\n",
      "#extract field from MBG monthly file with fieldname # varname\n",
      "export deb=197\n",
      "export fin=200\n",
      "\n",
      "export outdir=${WORKDIR}/ORCA025-PIS2DIC/MBG/Analyse/TS_MO\n",
      "\n",
      "for ((an = $deb; an <= $fin; an++))\n",
      "do\n",
      " field=ALK\n",
      " for var in Alkalini Alkalini2\n",
      " do\n",
      "  echo $var from ORCA025_${an}1_$((${an}+1))0_1M_${field}_surf.nc\n",
      "  cdo selname,${var} ORCA025_${an}1_$((${an}+1))0_1M_${field}_surf.nc ${outdir}/ORCA025_${an}1_$((${an}+1))0_1M_${var}_surf.nc\n",
      " done\n",
      "\n",
      " field=CHL\n",
      " for var in DCHL NCHL\n",
      " do\n",
      "  echo $var from ORCA025_${an}1_$((${an}+1))0_1M_${field}_surf.nc\n",
      "  cdo selname,${var} ORCA025_${an}1_$((${an}+1))0_1M_${field}_surf.nc ${outdir}/ORCA025_${an}1_$((${an}+1))0_1M_${var}_surf.nc\n",
      " done\n",
      "\n",
      " field=CO3\n",
      " for var in CO3sat\n",
      " do\n",
      "  echo $var from ORCA025_${an}1_$((${an}+1))0_1M_${field}_surf.nc\n",
      "  cdo selname,${var} ORCA025_${an}1_$((${an}+1))0_1M_${field}_surf.nc ${outdir}/ORCA025_${an}1_$((${an}+1))0_1M_${var}_surf.nc\n",
      " done\n",
      "\n",
      " field=NIT\n",
      " for var in NO3\n",
      " do\n",
      "  echo $var from ORCA025_${an}1_$((${an}+1))0_1M_${field}_surf.nc\n",
      "  cdo selname,${var} ORCA025_${an}1_$((${an}+1))0_1M_${field}_surf.nc ${outdir}/ORCA025_${an}1_$((${an}+1))0_1M_${var}_surf.nc\n",
      " done\n",
      "\n",
      " field=FER\n",
      " for var in Fer\n",
      " do\n",
      "  echo $var from ORCA025_${an}1_$((${an}+1))0_1M_${field}_surf.nc\n",
      "  cdo selname,${var} ORCA025_${an}1_$((${an}+1))0_1M_${field}_surf.nc ${outdir}/ORCA025_${an}1_$((${an}+1))0_1M_${var}_surf.nc\n",
      " done\n",
      "\n",
      " field=OXY\n",
      " for var in O2\n",
      " do\n",
      "  echo $var from ORCA025_${an}1_$((${an}+1))0_1M_${field}_surf.nc\n",
      "  cdo selname,${var} ORCA025_${an}1_$((${an}+1))0_1M_${field}_surf.nc ${outdir}/ORCA025_${an}1_$((${an}+1))0_1M_${var}_surf.nc\n",
      " done\n",
      "\n",
      " field=SIL\n",
      " for var in Si\n",
      " do\n",
      "  echo $var from ORCA025_${an}1_$((${an}+1))0_1M_${field}_surf.nc\n",
      "  cdo selname,${var} ORCA025_${an}1_$((${an}+1))0_1M_${field}_surf.nc ${outdir}/ORCA025_${an}1_$((${an}+1))0_1M_${var}_surf.nc\n",
      " done\n",
      "done"
     ],
     "language": "python",
     "metadata": {},
     "outputs": [
      {
       "output_type": "stream",
       "stream": "stdout",
       "text": [
        "Overwriting TOOLS/select_var.sh\n"
       ]
      }
     ],
     "prompt_number": 5
    },
    {
     "cell_type": "heading",
     "level": 4,
     "metadata": {},
     "source": [
      "<i>rm_file.sh</i> - Routine to remove files with inapropriated name"
     ]
    },
    {
     "cell_type": "code",
     "collapsed": false,
     "input": [
      "%%writefile rm_file.sh\n",
      "#remove file with other name than field\n",
      "export outdir=${WORKDIR}/ORCA025-PIS2DIC/MBG/Analyse/TS_MO\n",
      "\n",
      "for field in ALK CHL NIT FER OXY SIL CO3\n",
      "do\n",
      " rm -f ${outdir}/ORCA025_*_1M_${field}_surf.nc\n",
      "done"
     ],
     "language": "python",
     "metadata": {},
     "outputs": [
      {
       "output_type": "stream",
       "stream": "stdout",
       "text": [
        "Overwriting TOOLS/rm_file.sh\n"
       ]
      }
     ],
     "prompt_number": 6
    },
    {
     "cell_type": "heading",
     "level": 4,
     "metadata": {},
     "source": [
      "<i>make_ts_MO_from_5DA.sh</i> - Routine to produce monthly time series from daily files"
     ]
    },
    {
     "cell_type": "code",
     "collapsed": false,
     "input": [
      "%%writefile make_ts_MO_from_5DA.sh\n",
      "# produce surface monthly time series from model output\n",
      "export tmpdir=temp/ORCA025/MBG/DA\n",
      "export outdir=${WORKDIR}/ORCA025-PIS2DIC/MBG/Analyse/TS_MO\n",
      "\n",
      "#1: Monthly 2D timeseries for MBG carbon\n",
      "export deb=1958\n",
      "export fin=2010\n",
      "\n",
      "echo Monthly mean surface MBG for the period ${deb}1 to $(($fin+1))0\n",
      "\n",
      "for var in Cflx Cflx2 Oflx Kg Dpco2 Dpco22 Dpo2\n",
      "do\n",
      " for ((an = $deb; an <= $fin; an++))\n",
      " do\n",
      "  ifile=${tmpdir}/ORCA025-PIS2DIC_${an}*_5D_diad_T.nc\n",
      "  echo field ${var} file ${ifile}\n",
      "  ferret -script 5d2mon.jnl ${ifile} ${var} \n",
      "  var_UP=`echo ${var} | tr '[:lower:]' '[:upper:]' | sed s:$:_MO:` \n",
      "  tmpfile=`echo ${ifile} | sed -e \"s:diad_T:${var}:\" -e \"s:5D:1M:\"`\n",
      "  newfile=`basename ${tmpfile}`\n",
      "  ncrename -O -v ${var_UP},${var} -v NAV_LON,nav_lon -v NAV_LAT,nav_lat -d MONTH_NOLEAP,time_counter -v MONTH_NOLEAP,time_counter -v MONTH_NOLEAP_bnds,time_counter_bnds ${newfile} ${newfile}\n",
      "  ncatted -O -a calendar,time_counter,o,c,noleap ${newfile}\n",
      "  ncatted -O -a bounds,time_counter,o,c,time_counter_bnds ${newfile}\n",
      " done\n",
      " echo concat monthly ${var}\n",
      " cdo -f nc copy ORCA025-PIS2DIC_*_1M_${var}.nc ${outdir}/ORCA025_${deb}_${fin}_1M_${var}.nc \n",
      " rm ORCA025-PIS2DIC_*_1M_${var}.nc\n",
      "done\n",
      "\n",
      "#2: Monthly other MBG\n",
      "export deb=1991\n",
      "export fin=2010\n",
      "\n",
      "for var in Nfix Heup Irondep INVPPPHY INVPPPHY2 INVPNEW INVPNEWD\n",
      "do\n",
      " for ((an = $deb; an <= $fin; an++))\n",
      " do\n",
      "  ifile=${tmpdir}/ORCA025-PIS2DIC_${an}*_5D_diad_T.nc\n",
      "  echo field ${var} file ${ifile}\n",
      "  ferret -script 5d2mon.jnl ${ifile} ${var} \n",
      "  var_UP=`echo ${var} | tr '[:lower:]' '[:upper:]' | sed s:$:_MO:` \n",
      "  tmpfile=`echo ${ifile} | sed -e \"s:diad_T:${var}:\" -e \"s:5D:1M:\"`\n",
      "  newfile=`basename ${tmpfile}`\n",
      "  ncrename -v ${var_UP},${var} -v NAV_LON,nav_lon -v NAV_LAT,nav_lat -d MONTH_NOLEAP,time_counter -v MONTH_NOLEAP,time_counter -v MONTH_NOLEAP_bnds,time_counter_bnds ${newfile}\n",
      "  ncatted -O -a calendar,time_counter,o,c,noleap ${newfile}\n",
      "  ncatted -O -a bounds,time_counter,o,c,time_counter_bnds ${newfile}\n",
      " done\n",
      " echo concat monthly ${var}\n",
      " cdo -f nc copy ORCA025-PIS2DIC_*_1M_${var}.nc ${outdir}/ORCA025_${deb}_${fin}_1M_${var}.nc \n",
      " rm ORCA025-PIS2DIC_*_1M_${var}.nc\n",
      "done\n"
     ],
     "language": "python",
     "metadata": {},
     "outputs": [
      {
       "output_type": "stream",
       "stream": "stdout",
       "text": [
        "Overwriting TOOLS/make_ts_MO_from_5DA.sh\n"
       ]
      }
     ],
     "prompt_number": 1
    },
    {
     "cell_type": "heading",
     "level": 4,
     "metadata": {},
     "source": [
      "<i>5d2mon.jnl</i> - Ferret script to produce monthly average from 5 day average"
     ]
    },
    {
     "cell_type": "code",
     "collapsed": false,
     "input": [
      "%%writefile 5d2mon.jnl\n",
      "\n",
      "\\cancel mode verify\n",
      "!  Description: GO script to compute monthly averages from 5 day output\n",
      "\n",
      "  set mem/siz=300\n",
      "  def sym ifile    $1\n",
      "  def sym var      $2\n",
      "\n",
      "! use ORCA05-LMG01_20000101_20001231_5D_diad_T.nc\n",
      "  use \"($ifile)\"\n",
      "  use climatological_axes\n",
      "  can data climatological_axes\n",
      "\n",
      "! Extract year from annual data set (data set must not be for more than 1 year)\n",
      "  def sym yr `tax_year(t[l=1,gt=($var)], ($var)[i=1,j=1,k=1,l=1])`\n",
      "\n",
      "! Compute monthly means (put on month_noleap time axis)\n",
      "  let/title=\"($var)\" ($var)_mo = ($var)[gt=month_noleap@mod,t=1-jan-($yr):31-dec-($yr)] \n",
      "\n",
      "! Save out temporary file & read it back in (to be able to keep original var name)\n",
      "! save/clobber/file=\"tmp.nc\" ($var)_mo, nav_lon, nav_lat\n",
      "! can data/all\n",
      "! can var/all\n",
      "! can axis/all\n",
      "! use tmp.nc\n",
      "! let/title=\"($var)\" ($var) = ($var)_mo\n",
      "\n",
      "! Extract parts of ifile name (to use when builiding ofile name)\n",
      "  def sym DIRNAME=`SPAWN(\"dirname ($ifile)\")`\n",
      "  def sym BASENAME=`SPAWN(\"basename ($ifile)\")`\n",
      "  def sym model=`spawn(\"echo ($BASENAME) | awk -F_ '{print $1}'\")`\n",
      "  def sym ymdbeg=`spawn(\"echo ($BASENAME) | awk -F_ '{print $2}'\")`\n",
      "  def sym ymdend=`spawn(\"echo ($BASENAME) | awk -F_ '{print $3}'\")`\n",
      "\n",
      "! Specify output file name and write out results on monthly mean axis\n",
      "  def sym ofile \"($model)_($ymdbeg)_($ymdend)_1M_($var).nc\"\n",
      "  save/clobber/file=\"($ofile)\" ($var)_mo, nav_lon, nav_lat\n",
      "\n",
      "set mode/last verify"
     ],
     "language": "python",
     "metadata": {},
     "outputs": [
      {
       "output_type": "stream",
       "stream": "stdout",
       "text": [
        "Writing TOOLS/5d2mon.jnl\n"
       ]
      }
     ],
     "prompt_number": 8
    },
    {
     "cell_type": "heading",
     "level": 4,
     "metadata": {},
     "source": [
      "<i>make_clim_MO.sh</i> - Routine to produce monthly decadal climatology"
     ]
    },
    {
     "cell_type": "code",
     "collapsed": false,
     "input": [
      "%%writefile make_clim_MO.sh\n",
      "# produce surface monthly climatology from decadal time series\n",
      "export outdir=${WORKDIR}/ORCA025-PIS2DIC\n",
      "\n",
      "export deb=199\n",
      "export fin=200\n",
      "\n",
      "echo Monthly decadal climatology for the period ${deb}1 to $(($fin+1))0\n",
      "\n",
      "#1: surface climatology for MBG \n",
      "for field in NO3 PO4 O2 Si DIC DIC2 Alkalini Alkalini2 Fer NCHL DCHL PH PH2 CO3 CO32\n",
      "do\n",
      " echo field $field\n",
      " for ((an = $deb; an <= $fin; an++))\n",
      " do\n",
      "  echo ${an}1 to $((${an}+1))0\n",
      "  cdo ymonmean ${outdir}/MBG/Analyse/TS_MO/ORCA025_${an}1_$((${an}+1))0_1M_${field}_surf.nc ${outdir}/MBG/Analyse/CLIM_MO/ORCA025_${an}1_$((${an}+1))0_12M_${field}_surf.nc\n",
      " done\n",
      "done\n",
      "\n",
      "#2: surface climatology for OCE \n",
      "for field in votemper vosaline somxl010\n",
      "do\n",
      " echo field $field\n",
      " for ((an = $deb; an <= $fin; an++))\n",
      " do\n",
      "  echo ${an}1 to $((${an}+1))0\n",
      "  cdo ymonmean ${outdir}/OCE/Analyse/TS_MO/ORCA025_${an}1_$((${an}+1))0_1M_${field}_surf.nc ${outdir}/OCE/Analyse/CLIM_MO/ORCA025_${an}1_$((${an}+1))0_12M_${field}_surf.nc\n",
      " done\n",
      "done\n"
     ],
     "language": "python",
     "metadata": {},
     "outputs": [
      {
       "output_type": "stream",
       "stream": "stdout",
       "text": [
        "Overwriting TOOLS/make_clim_MO.sh\n"
       ]
      }
     ],
     "prompt_number": 9
    },
    {
     "cell_type": "heading",
     "level": 4,
     "metadata": {},
     "source": [
      "<i>mfput_orca025.sh</i> - Routine to copy model Analyses to ergon store"
     ]
    },
    {
     "cell_type": "code",
     "collapsed": false,
     "input": [
      "%%writefile mfput_orca025.sh\n",
      "# mfput the analyses file to ergon storedir\n",
      "export deb=199\n",
      "export fin=200\n",
      "\n",
      "#1: put MBG analyses yearly file\n",
      "export oudir=/arch/home/rech/fry/rfry938/ORCA025-PIS2DIC/MBG/Analyse\n",
      "cd ${WORKDIR}/ORCA025-PIS2DIC/MBG/Analyse\n",
      "\n",
      "for field in NO3 PO4 O2 Si DIC DIC2 Alkalini Alkalini2 Fer NCHL DCHL PH PH2 CO3 CO32 Cflx Cflx2 CO3 CO32 Kg Oflx\n",
      "do\n",
      " mfput TS_YE/ORCA025_1958_2010_1Y_${field}_surf.nc ${oudir}/TS_YE/.\n",
      " mfput CLIM_YE/ORCA025_1961_2010_10Y_${field}_surf.nc ${oudir}/CLIM_YE/.\n",
      "done\n",
      "\n",
      "#2: put MBG analyses monthly file\n",
      "for field in PH PH2 CO3 CO32 NO3 PO4 O2 Si DIC DIC2 Alkalini Alkalini2 Fer NCHL DCHL\n",
      "do\n",
      " mfput TS_MO/ORCA025_*_1M_${field}_surf.nc ${oudir}/TS_MO/.\n",
      " for ((an = $deb; an <= $fin; an++)); do\n",
      "    mfput CLIM_MO/ORCA025_${an}1_$((${an}+1))0_12M_${field}_surf.nc ${oudir}/CLIM_MO/.\n",
      " done\n",
      "done\n",
      "\n",
      "#3: put OCE analyses file\n",
      "export oudir=/arch/home/rech/fry/rfry938/ORCA025-PIS2DIC/OCE/Analyse\n",
      "cd ${WORKDIR}/ORCA025-PIS2DIC/OCE/Analyse\n",
      "\n",
      "for field in votemper vosaline somxl010\n",
      "do\n",
      " mfput TS_YE/ORCA025_1986_2010_1Y_${field}_surf.nc ${oudir}/TS_YE/.\n",
      " mfput CLIM_YE/ORCA025_1991_2010_10Y_${field}_surf.nc ${oudir}/CLIM_YE/.\n",
      " mfput TS_MO/ORCA025_1991_2000_1M_${field}_surf.nc ${oudir}/TS_MO/.\n",
      " for ((an = $deb; an <= $fin; an++)); do\n",
      "    mfput CLIM_MO/ORCA025_${an}1_$((${an}+1))0_12M_${field}_surf.nc ${oudir}/CLIM_MO/.\n",
      " done\n",
      "done\n",
      "\n",
      "#4: extra MBG\n",
      "export oudir=/arch/home/rech/fry/rfry938/ORCA025-PIS2DIC/MBG/Analyse\n",
      "cd ${WORKDIR}/ORCA025-PIS2DIC/MBG/Analyse\n",
      "#\n",
      "for field in CO3sat\n",
      "do\n",
      " mfput TS_MO/ORCA025_*_1M_${field}_surf.nc ${oudir}/TS_MO/.\n",
      "done\n",
      "#\n",
      "for field in Nfix Heup Irondep INVPPPHY INVPPPHY2 INVPNEW INVPNEWD Cflx Cflx2 Oflx Kg Dpco2 Dpco22 Dpo2 \n",
      "do\n",
      " mfput TS_MO/ORCA025_*_1M_${field}.nc ${oudir}/TS_MO/.\n",
      "done\n"
     ],
     "language": "python",
     "metadata": {},
     "outputs": [
      {
       "output_type": "stream",
       "stream": "stdout",
       "text": [
        "Overwriting TOOLS/mfput_orca025.sh\n"
       ]
      }
     ],
     "prompt_number": 10
    },
    {
     "cell_type": "code",
     "collapsed": false,
     "input": [],
     "language": "python",
     "metadata": {},
     "outputs": [],
     "prompt_number": 10
    }
   ],
   "metadata": {}
  }
 ]
}